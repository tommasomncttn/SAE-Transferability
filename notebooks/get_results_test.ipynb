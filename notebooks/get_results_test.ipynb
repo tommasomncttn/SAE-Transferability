{
 "cells": [
  {
   "cell_type": "code",
   "execution_count": 1,
   "id": "bad158ce-2acd-4410-bfef-f62e5c70f902",
   "metadata": {},
   "outputs": [],
   "source": [
    "from get_results import *"
   ]
  },
  {
   "cell_type": "markdown",
   "id": "43718ff3-080b-465d-96ce-c03f099763be",
   "metadata": {},
   "source": [
    "### Tokenizers check"
   ]
  },
  {
   "cell_type": "code",
   "execution_count": 2,
   "id": "507efc59-ac7b-4191-a4d9-98eb9c266f31",
   "metadata": {},
   "outputs": [
    {
     "data": {
      "application/vnd.jupyter.widget-view+json": {
       "model_id": "241a0b4a5c7a4e1db66e9af813b4c8a6",
       "version_major": 2,
       "version_minor": 0
      },
      "text/plain": [
       "VBox(children=(HTML(value='<center> <img\\nsrc=https://huggingface.co/front/assets/huggingface_logo-noborder.sv…"
      ]
     },
     "metadata": {},
     "output_type": "display_data"
    }
   ],
   "source": [
    "from huggingface_hub import login\n",
    "login()"
   ]
  },
  {
   "cell_type": "code",
   "execution_count": 3,
   "id": "837993fc-f783-4931-9306-0fbe514fd605",
   "metadata": {},
   "outputs": [],
   "source": [
    "### set this args with argparse, now hardcoded\n",
    "GEMMA=True\n",
    "\n",
    "if GEMMA == True:\n",
    "    N_CONTEXT = 1024 # number of context tokens to consider\n",
    "    N_BATCHES = 128 # number of batches to consider\n",
    "    TOTAL_BATCHES = 20 \n",
    "\n",
    "    RELEASE = 'gemma-2b-res-jb'\n",
    "    BASE_MODEL = \"google/gemma-2b\"\n",
    "    FINETUNE_MODEL = 'shahdishank/gemma-2b-it-finetune-python-codes'\n",
    "    DATASET_NAME = \"ctigges/openwebtext-gemma-1024-cl\"\n",
    "    hook_part = 'post'\n",
    "    layer_num = 6\n",
    "else:\n",
    "    N_CONTEXT = 128 # number of context tokens to consider\n",
    "    N_BATCHES = 128 # number of batches to consider\n",
    "    TOTAL_BATCHES = 100 \n",
    "\n",
    "    RELEASE = 'gpt2-small-res-jb'\n",
    "    BASE_MODEL = \"gpt2-small\"\n",
    "    FINETUNE_MODEL = 'pierreguillou/gpt2-small-portuguese'\n",
    "    DATASET_NAME = \"Skylion007/openwebtext\"\n",
    "    hook_part = 'pre'\n",
    "    layer_num = 6\n",
    "\n",
    "SAE_HOOK = f'blocks.{layer_num}.hook_resid_{hook_part}'"
   ]
  },
  {
   "cell_type": "code",
   "execution_count": 4,
   "id": "f3bc00fa-f1ed-4734-921a-20915a0c2ede",
   "metadata": {},
   "outputs": [],
   "source": [
    "tokenizer_cfg = TokenizerComparisonConfig(BASE_MODEL, FINETUNE_MODEL)"
   ]
  },
  {
   "cell_type": "code",
   "execution_count": 5,
   "id": "8a156d48-36dd-4f49-8dea-ee1229759e24",
   "metadata": {},
   "outputs": [
    {
     "name": "stdout",
     "output_type": "stream",
     "text": [
      "PYTHONPATH: C:\\Edu\\Mech_Interp\\SAE_merging\\SAE-Tuning-Merging\n",
      "DATAPATH: C:\\Edu\\Mech_Interp\\SAE_merging\\SAE-Tuning-Merging\\data\n"
     ]
    },
    {
     "data": {
      "text/html": [
       "<div>\n",
       "<style scoped>\n",
       "    .dataframe tbody tr th:only-of-type {\n",
       "        vertical-align: middle;\n",
       "    }\n",
       "\n",
       "    .dataframe tbody tr th {\n",
       "        vertical-align: top;\n",
       "    }\n",
       "\n",
       "    .dataframe thead th {\n",
       "        text-align: right;\n",
       "    }\n",
       "</style>\n",
       "<table border=\"1\" class=\"dataframe\">\n",
       "  <thead>\n",
       "    <tr style=\"text-align: right;\">\n",
       "      <th></th>\n",
       "      <th>Metric</th>\n",
       "      <th>Value</th>\n",
       "    </tr>\n",
       "  </thead>\n",
       "  <tbody>\n",
       "    <tr>\n",
       "      <th>0</th>\n",
       "      <td>Base Tokenizer Size</td>\n",
       "      <td>256000.000000</td>\n",
       "    </tr>\n",
       "    <tr>\n",
       "      <th>1</th>\n",
       "      <td>Fine-tune Tokenizer Size</td>\n",
       "      <td>256000.000000</td>\n",
       "    </tr>\n",
       "    <tr>\n",
       "      <th>2</th>\n",
       "      <td>Keys only in Base</td>\n",
       "      <td>1.000000</td>\n",
       "    </tr>\n",
       "    <tr>\n",
       "      <th>3</th>\n",
       "      <td>Keys only in Fine-tune</td>\n",
       "      <td>1.000000</td>\n",
       "    </tr>\n",
       "    <tr>\n",
       "      <th>4</th>\n",
       "      <td>Keys with Mismatched Token IDs</td>\n",
       "      <td>0.000000</td>\n",
       "    </tr>\n",
       "    <tr>\n",
       "      <th>5</th>\n",
       "      <td>Good Tokens in Base (%)</td>\n",
       "      <td>99.999609</td>\n",
       "    </tr>\n",
       "    <tr>\n",
       "      <th>6</th>\n",
       "      <td>Good Tokens in Fine-tune (%)</td>\n",
       "      <td>99.999609</td>\n",
       "    </tr>\n",
       "  </tbody>\n",
       "</table>\n",
       "</div>"
      ],
      "text/plain": [
       "                           Metric          Value\n",
       "0             Base Tokenizer Size  256000.000000\n",
       "1        Fine-tune Tokenizer Size  256000.000000\n",
       "2               Keys only in Base       1.000000\n",
       "3          Keys only in Fine-tune       1.000000\n",
       "4  Keys with Mismatched Token IDs       0.000000\n",
       "5         Good Tokens in Base (%)      99.999609\n",
       "6    Good Tokens in Fine-tune (%)      99.999609"
      ]
     },
     "execution_count": 5,
     "metadata": {},
     "output_type": "execute_result"
    }
   ],
   "source": [
    "compare_tokenizers(tokenizer_cfg)"
   ]
  },
  {
   "cell_type": "markdown",
   "id": "2ae19533-b570-49fd-9c1e-d7271ef1fd2c",
   "metadata": {},
   "source": [
    "### Activations storage"
   ]
  },
  {
   "cell_type": "code",
   "execution_count": 2,
   "id": "5aa71641-ecc9-402e-b008-893943a946e8",
   "metadata": {},
   "outputs": [],
   "source": [
    "### set this args with argparse, now hardcoded\n",
    "GEMMA=False\n",
    "\n",
    "if GEMMA == True:\n",
    "    N_CONTEXT = 1024 # number of context tokens to consider\n",
    "    N_BATCHES = 8 # number of batches to consider\n",
    "    TOTAL_BATCHES = 20 \n",
    "\n",
    "    RELEASE = 'gemma-2b-res-jb'\n",
    "    BASE_MODEL = \"google/gemma-2b\"\n",
    "    FINETUNE_MODEL = 'shahdishank/gemma-2b-it-finetune-python-codes'\n",
    "    DATASET_NAME = \"ctigges/openwebtext-gemma-1024-cl\"\n",
    "    hook_part = 'post'\n",
    "    layer_num = 6\n",
    "else:\n",
    "    N_CONTEXT = 128 # number of context tokens to consider\n",
    "    N_BATCHES = 8 # number of batches to consider\n",
    "    TOTAL_BATCHES = 40 \n",
    "\n",
    "    RELEASE = 'gpt2-small-res-jb'\n",
    "    BASE_MODEL = \"gpt2-small\"\n",
    "    FINETUNE_MODEL = 'pierreguillou/gpt2-small-portuguese'\n",
    "    DATASET_NAME = \"Skylion007/openwebtext\"\n",
    "    hook_part = 'pre'\n",
    "    layer_num = 6\n",
    "\n",
    "SAE_HOOK = f'blocks.{layer_num}.hook_resid_{hook_part}'"
   ]
  },
  {
   "cell_type": "code",
   "execution_count": 3,
   "id": "e9aeba2f-040a-4921-ae24-c3e90d0e67e3",
   "metadata": {},
   "outputs": [],
   "source": [
    "activation_cfg = ActivationStoringConfig(BASE_MODEL, FINETUNE_MODEL, DATASET_NAME, \n",
    "                                         N_CONTEXT, N_BATCHES, TOTAL_BATCHES, \n",
    "                                         layer_num, SAE_HOOK)"
   ]
  },
  {
   "cell_type": "code",
   "execution_count": 9,
   "id": "4b7a7ebf-de2b-469a-af06-b83c17634a96",
   "metadata": {},
   "outputs": [
    {
     "name": "stdout",
     "output_type": "stream",
     "text": [
      "PYTHONPATH: C:\\Edu\\Mech_Interp\\SAE_merging\\SAE-Tuning-Merging\n",
      "DATAPATH: C:\\Edu\\Mech_Interp\\SAE_merging\\SAE-Tuning-Merging\\data\n"
     ]
    },
    {
     "name": "stderr",
     "output_type": "stream",
     "text": [
      "WARNING:root:With reduced precision, it is advised to use `from_pretrained_no_processing` instead of `from_pretrained`.\n"
     ]
    },
    {
     "name": "stdout",
     "output_type": "stream",
     "text": [
      "Loaded pretrained model gpt2-small into HookedTransformer\n",
      "Run name: 2048-L1-0.001-LR-0.0003-Tokens-2.000e+06\n",
      "n_tokens_per_buffer (millions): 0.02048\n",
      "Lower bound: n_contexts_per_buffer (millions): 0.00016\n",
      "Total training steps: 488\n",
      "Total wandb updates: 48\n",
      "n_tokens_per_feature_sampling_window (millions): 1048.576\n",
      "n_tokens_per_dead_feature_window (millions): 524.288\n",
      "We will reset the sparsity calculation 0 times.\n",
      "Number tokens in sparsity calculation window: 8.19e+06\n",
      "Warning: Dataset is not tokenized. Pre-tokenizing will improve performance and allows for more control over special tokens. See https://jbloomaus.github.io/SAELens/training_saes/#pretokenizing-datasets for more info.\n"
     ]
    },
    {
     "name": "stderr",
     "output_type": "stream",
     "text": [
      "WARNING:root:With reduced precision, it is advised to use `from_pretrained_no_processing` instead of `from_pretrained`.\n"
     ]
    },
    {
     "name": "stdout",
     "output_type": "stream",
     "text": [
      "Loaded pretrained model gpt2-small into HookedTransformer\n"
     ]
    }
   ],
   "source": [
    "result_dict = get_activations_for_base_and_ft(activation_cfg)"
   ]
  },
  {
   "cell_type": "code",
   "execution_count": 10,
   "id": "12bf4993-95ec-4ef6-8472-f090d2f714b6",
   "metadata": {},
   "outputs": [
    {
     "name": "stderr",
     "output_type": "stream",
     "text": [
      "C:\\Users\\Tarassaco\\AppData\\Local\\Temp\\ipykernel_9728\\683010509.py:1: FutureWarning: You are using `torch.load` with `weights_only=False` (the current default value), which uses the default pickle module implicitly. It is possible to construct malicious pickle data which will execute arbitrary code during unpickling (See https://github.com/pytorch/pytorch/blob/main/SECURITY.md#untrusted-models for more details). In a future release, the default value for `weights_only` will be flipped to `True`. This limits the functions that could be executed during unpickling. Arbitrary objects will no longer be allowed to be loaded via this mode unless they are explicitly allowlisted by the user via `torch.serialization.add_safe_globals`. We recommend you start setting `weights_only=True` for any use case where you don't have full control of the loaded file. Please open an issue on GitHub for any issues related to this experimental feature.\n",
      "  base_act = torch.load(result_dict['base_act_path'])\n",
      "C:\\Users\\Tarassaco\\AppData\\Local\\Temp\\ipykernel_9728\\683010509.py:2: FutureWarning: You are using `torch.load` with `weights_only=False` (the current default value), which uses the default pickle module implicitly. It is possible to construct malicious pickle data which will execute arbitrary code during unpickling (See https://github.com/pytorch/pytorch/blob/main/SECURITY.md#untrusted-models for more details). In a future release, the default value for `weights_only` will be flipped to `True`. This limits the functions that could be executed during unpickling. Arbitrary objects will no longer be allowed to be loaded via this mode unless they are explicitly allowlisted by the user via `torch.serialization.add_safe_globals`. We recommend you start setting `weights_only=True` for any use case where you don't have full control of the loaded file. Please open an issue on GitHub for any issues related to this experimental feature.\n",
      "  finetune_act = torch.load(result_dict['finetune_act_path'])\n"
     ]
    },
    {
     "data": {
      "text/plain": [
       "(torch.Size([320, 128, 768]), torch.Size([320, 128, 768]))"
      ]
     },
     "execution_count": 10,
     "metadata": {},
     "output_type": "execute_result"
    }
   ],
   "source": [
    "base_act = torch.load(result_dict['base_act_path'])\n",
    "finetune_act = torch.load(result_dict['finetune_act_path'])\n",
    "\n",
    "base_act.shape, finetune_act.shape"
   ]
  }
 ],
 "metadata": {
  "kernelspec": {
   "display_name": "Python 3 (ipykernel)",
   "language": "python",
   "name": "python3"
  },
  "language_info": {
   "codemirror_mode": {
    "name": "ipython",
    "version": 3
   },
   "file_extension": ".py",
   "mimetype": "text/x-python",
   "name": "python",
   "nbconvert_exporter": "python",
   "pygments_lexer": "ipython3",
   "version": "3.10.14"
  }
 },
 "nbformat": 4,
 "nbformat_minor": 5
}
